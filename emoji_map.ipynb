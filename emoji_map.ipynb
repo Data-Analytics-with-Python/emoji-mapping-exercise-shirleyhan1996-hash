{
  "nbformat": 4,
  "nbformat_minor": 0,
  "metadata": {
    "colab": {
      "provenance": [],
      "include_colab_link": true
    },
    "kernelspec": {
      "name": "python3",
      "display_name": "Python 3"
    },
    "language_info": {
      "name": "python"
    }
  },
  "cells": [
    {
      "cell_type": "markdown",
      "metadata": {
        "id": "view-in-github",
        "colab_type": "text"
      },
      "source": [
        "<a href=\"https://colab.research.google.com/github/Data-Analytics-with-Python/emoji-mapping-exercise-shirleyhan1996-hash/blob/main/emoji_map.ipynb\" target=\"_parent\"><img src=\"https://colab.research.google.com/assets/colab-badge.svg\" alt=\"Open In Colab\"/></a>"
      ]
    },
    {
      "cell_type": "code",
      "execution_count": 1,
      "metadata": {
        "id": "QTEBoiVlqXnx"
      },
      "outputs": [],
      "source": [
        "# Define a dictional that maps words into emojis\n",
        "EMOJI_MAP = {\n",
        "    \"happy\": \"😀\",\n",
        "    \"joyful\": \"😄\",\n",
        "    \"excited\": \"🤩\",\n",
        "    \"proud\": \"😌\",\n",
        "    \"calm\": \"🙂\",\n",
        "    \"confident\": \"😎\",\n",
        "    \"playful\": \"😜\",\n",
        "    \"silly\": \"🤪\",\n",
        "    \"angry\": \"😡\",\n",
        "    \"frustrated\": \"😤\",\n",
        "    \"sad\": \"😢\",\n",
        "    \"lonely\": \"🥺\",\n",
        "    \"scared\": \"😱\",\n",
        "    \"worried\": \"😟\",\n",
        "    \"tired\": \"😴\",\n",
        "    \"confused\": \"🤔\",\n",
        "    \"surprised\": \"😮\",\n",
        "    \"loving\": \"❤️\",\n",
        "    \"grateful\": \"🙏\"\n",
        "}"
      ]
    },
    {
      "cell_type": "code",
      "source": [
        "# Replace the content of 'text' with your own sentence. No punctuaton marks!\n",
        "text = \"I am happy\""
      ],
      "metadata": {
        "id": "yg-oV8D1qYuj"
      },
      "execution_count": 14,
      "outputs": []
    },
    {
      "cell_type": "code",
      "source": [
        "# Split text into a list of words using .split() function，\n",
        "\n",
        "#把句子分开用空格，\n",
        "words=text.split()\n",
        "\n",
        "\n",
        "#把拆开来的3个定义成list\n",
        "word_emoji_list=[]\n",
        "\n",
        "#定义words是所有词语，\n",
        "for word in words:\n",
        "\n",
        "#然后针对在words里面的字，如果在map里面就替换，不是的话就保留为word\n",
        "    if word in EMOJI_MAP:\n",
        "      word_emoji=EMOJI_MAP[word]\n",
        "    else:\n",
        "      word_emoji=word\n",
        "\n",
        "#把表情加进list\n",
        "    word_emoji_list.append(word_emoji)\n",
        "\n",
        "#定义输出是output，在list里间隔加上空格\n",
        "text_output=\" \".join(word_emoji_list)\n",
        "display(text_output)\n",
        ""
      ],
      "metadata": {
        "id": "xFX3D2omqxjB",
        "outputId": "f70454b1-99b8-490e-d5bd-83b85efb8d5f",
        "colab": {
          "base_uri": "https://localhost:8080/",
          "height": 35
        }
      },
      "execution_count": 22,
      "outputs": [
        {
          "output_type": "display_data",
          "data": {
            "text/plain": [
              "'I am 😀'"
            ],
            "application/vnd.google.colaboratory.intrinsic+json": {
              "type": "string"
            }
          },
          "metadata": {}
        }
      ]
    },
    {
      "cell_type": "code",
      "source": [
        "# Use a for loop to enumerate the list of words. If the word is in EMOJI_MAP, replace it with the corresponding emoji\n",
        "\n"
      ],
      "metadata": {
        "id": "MmYdSeYG0Ei6"
      },
      "execution_count": null,
      "outputs": []
    }
  ]
}